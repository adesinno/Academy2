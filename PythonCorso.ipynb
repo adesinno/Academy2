{
  "nbformat": 4,
  "nbformat_minor": 0,
  "metadata": {
    "colab": {
      "name": "PythonCorso.ipynb",
      "provenance": [],
      "authorship_tag": "ABX9TyPUAJDGR1+9QS/ohcJSCR+p",
      "include_colab_link": true
    },
    "kernelspec": {
      "name": "python3",
      "display_name": "Python 3"
    },
    "language_info": {
      "name": "python"
    }
  },
  "cells": [
    {
      "cell_type": "markdown",
      "metadata": {
        "id": "view-in-github",
        "colab_type": "text"
      },
      "source": [
        "<a href=\"https://colab.research.google.com/github/adesinno/Academy2/blob/main/PythonCorso.ipynb\" target=\"_parent\"><img src=\"https://colab.research.google.com/assets/colab-badge.svg\" alt=\"Open In Colab\"/></a>"
      ]
    },
    {
      "cell_type": "code",
      "metadata": {
        "colab": {
          "base_uri": "https://localhost:8080/"
        },
        "id": "SFyfBmrgq5BW",
        "outputId": "2817ad61-4072-4c7b-9f5d-1344bdaadcef"
      },
      "source": [
        "a = ' You have succesfully run your first code'\n",
        "print (a)\n",
        "color = 'yellow'\n",
        "print(color)\n",
        "pi = 3.14159 # approximate\n",
        "diameter = 3\n",
        "radius = diameter / 2\n",
        "area = pi*(radius**2)\n",
        "print (area)\n",
        "type(area)\n",
        "type(radius)\n",
        "b = [1, 2, 3]\n",
        "a = [3, 2, 1]\n",
        "c = b \n",
        "b = a\n",
        "a = c\n",
        "print (a)\n",
        "print (b)\n"
      ],
      "execution_count": null,
      "outputs": [
        {
          "output_type": "stream",
          "name": "stdout",
          "text": [
            " You have succesfully run your first code\n",
            "yellow\n",
            "7.0685775\n",
            "[1, 2, 3]\n",
            "[3, 2, 1]\n"
          ]
        }
      ]
    },
    {
      "cell_type": "markdown",
      "metadata": {
        "id": "MCw_FOFgvapI"
      },
      "source": [
        "Operator\tName\tDescription\n",
        "a + b\tAddition\tSum of a and b\n",
        "a - b\tSubtraction\tDifference of a and b\n",
        "a * b\tMultiplication\tProduct of a and b\n",
        "a / b\tTrue division\tQuotient of a and b\n",
        "a // b\tFloor division\tQuotient of a and b, removing fractional parts\n",
        "a % b\tModulus\tInteger remainder after division of a by b\n",
        "a ** b\tExponentiation\ta raised to the power of b\n",
        "-a\tNegation\tThe negative of a"
      ]
    },
    {
      "cell_type": "code",
      "metadata": {
        "colab": {
          "base_uri": "https://localhost:8080/"
        },
        "id": "2NJbA-DKrILi",
        "outputId": "aa6bfca8-533f-4fbc-c31b-908548819c49"
      },
      "source": [
        "(5-3)//2"
      ],
      "execution_count": null,
      "outputs": [
        {
          "output_type": "execute_result",
          "data": {
            "text/plain": [
              "1"
            ]
          },
          "metadata": {},
          "execution_count": 10
        }
      ]
    },
    {
      "cell_type": "code",
      "metadata": {
        "colab": {
          "base_uri": "https://localhost:8080/"
        },
        "id": "lvFtyLPFv2Om",
        "outputId": "df7f5e02-b0c3-4c74-c6c5-4aa33328a864"
      },
      "source": [
        "(8 - (3 * 2)) - (1 + 1)\n",
        "alice_candies = 121\n",
        "bob_candies = 77\n",
        "carol_candies = 109\n",
        "#tosmash = (alice_candies+bob_candies+carol_candies)-\n",
        "division =(alice_candies+bob_candies+carol_candies)-( ((alice_candies+bob_candies+carol_candies)//3)*3)\n",
        "print(division)"
      ],
      "execution_count": null,
      "outputs": [
        {
          "output_type": "stream",
          "name": "stdout",
          "text": [
            "1\n"
          ]
        }
      ]
    },
    {
      "cell_type": "code",
      "metadata": {
        "colab": {
          "base_uri": "https://localhost:8080/",
          "height": 128
        },
        "id": "mtGxubo40Mfz",
        "outputId": "60e84c98-a907-4b30-e0aa-a18d23606dd4"
      },
      "source": [
        "def leastdifference (a,b,c):\n",
        "  diff1 = abs(a-b)\n",
        "  diff2 =abs (b-c)\n",
        "  diff3 = abs (a-c)\n",
        "  return min(diff1,diff2,diff3)\n",
        "#the function ends here. All elements below the def need to be indented and aligned \n",
        "\n",
        "\n",
        "print(leastdifference (1,10,100),\n",
        "      leastdifference(1,10,10),\n",
        "      leastdifference(5,6,7))\n",
        "\n"
      ],
      "execution_count": null,
      "outputs": [
        {
          "output_type": "error",
          "ename": "SyntaxError",
          "evalue": "ignored",
          "traceback": [
            "\u001b[0;36m  File \u001b[0;32m\"<ipython-input-30-bf9696c47b1e>\"\u001b[0;36m, line \u001b[0;32m13\u001b[0m\n\u001b[0;31m    def roundtotwoplaces (num)\u001b[0m\n\u001b[0m                              ^\u001b[0m\n\u001b[0;31mSyntaxError\u001b[0m\u001b[0;31m:\u001b[0m invalid syntax\n"
          ]
        }
      ]
    },
    {
      "cell_type": "code",
      "metadata": {
        "colab": {
          "base_uri": "https://localhost:8080/"
        },
        "id": "nvASNSvzbEhj",
        "outputId": "9d11655d-30b0-4d1c-8ca0-b123e30baf64"
      },
      "source": [
        "def roundtwo (num):\n",
        "  a = round(num,2)\n",
        "  return a\n",
        "\n",
        "print  ( roundtwo (1.5456))\n",
        "\n",
        "def roundtwo (num):\n",
        "  a = round(num,-2)\n",
        "  return a\n",
        "\n",
        "print  ( roundtwo (155.7978))"
      ],
      "execution_count": null,
      "outputs": [
        {
          "output_type": "stream",
          "name": "stdout",
          "text": [
            "1.55\n",
            "200.0\n"
          ]
        }
      ]
    },
    {
      "cell_type": "code",
      "metadata": {
        "id": "Qj-2C9Ygb0g4"
      },
      "source": [
        ""
      ],
      "execution_count": null,
      "outputs": []
    }
  ]
}